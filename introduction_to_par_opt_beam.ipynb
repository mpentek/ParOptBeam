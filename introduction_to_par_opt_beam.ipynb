{
 "cells": [
  {
   "cell_type": "markdown",
   "metadata": {},
   "source": [
    "# Tutorial 6.3. Structural Modeling Using Parametric Optimizable Beam Model"
   ]
  },
  {
   "cell_type": "markdown",
   "metadata": {},
   "source": [
    "### Description: The structural modeling can be done by simplified MDoF system as seen in excercise 3. Here a robust and generic modeling of MDoF system is presented through a Parametric Optimizable beam. The beam model can be obtained from the github page [ParOptBeam](https://github.com/mpentek/ParOptBeam). This is a guide for setting up an example problem in the framework. The exercise demonstrates some of the capabilities and students are advised to check the implementation and other capabilities. \n"
   ]
  },
  {
   "cell_type": "markdown",
   "metadata": {},
   "source": [
    "Project: Structural Wind Engineering WS20-21\n",
    "        Chair of Structural Analysis @ TUM - R. Wüchner, M. Péntek, A. Kodakkal\n",
    "        \n",
    "Author: anoop.kodakkal@tum.de, mate.pentek@tum.de\n",
    "\n",
    "Created on:  12.12.2019\n",
    "\n",
    "Last update: 20.12.2020"
   ]
  },
  {
   "cell_type": "markdown",
   "metadata": {},
   "source": [
    "##### Contents:\n",
    "\n",
    " 1. Input parameters\n",
    " 2. Available beam models - Timoshenko, Euler-Bernoulli etc\n",
    " 3. Available analysis type - Static, Dynamic, Eigen value analysis etc"
   ]
  },
  {
   "cell_type": "markdown",
   "metadata": {},
   "source": [
    "### Step 0: Clone the repo\n",
    "either\n",
    "\n",
    "#### 1.  'git clone https://github.com/mpentek/ParOptBeam.git '\n",
    "\n",
    "#### 2.  download as zip file the contents of [ParOptBeam](https://github.com/mpentek/ParOptBeam/archive/master.zip)"
   ]
  },
  {
   "cell_type": "markdown",
   "metadata": {},
   "source": [
    "#### Important: Run this script from the directory ParOptBeam\n"
   ]
  },
  {
   "cell_type": "markdown",
   "metadata": {},
   "source": [
    "importing the required packages and files "
   ]
  },
  {
   "cell_type": "code",
   "execution_count": 1,
   "metadata": {
    "scrolled": true
   },
   "outputs": [],
   "source": [
    "# import\n",
    "from source.model.structure_model import StraightBeam\n",
    "from source.analysis.analysis_controller import AnalysisController"
   ]
  },
  {
   "cell_type": "markdown",
   "metadata": {},
   "source": [
    "The inputs are defined as a dictionaries with various options. The options are as listed below with some basic explanations. Most of the naming are self explanatory. The unit system adopted are SI units(N,m,s) unless defined otherwise. "
   ]
  },
  {
   "cell_type": "markdown",
   "metadata": {},
   "source": [
    "__model_parameters__ : defines the details of the model\n",
    "domain_size can be 2D or 3D \n",
    "other options for boundary_conditions \n",
    "* fixed-fixed\n",
    "* pinned-pinned\n",
    "* fixed-pinned\n",
    "* pinned-fixed\n",
    "* fixed-free\n",
    "* free-fixed"
   ]
  },
  {
   "cell_type": "code",
   "execution_count": 2,
   "metadata": {
    "scrolled": true
   },
   "outputs": [],
   "source": [
    "# inputs \n",
    "parameters = {}\n",
    "\n",
    "parameters[\"model_parameters\"] = {\n",
    "        \"name\": \"GenericBuilding\",\n",
    "        \"domain_size\": \"3D\",\n",
    "        \"boundary_conditions\": \"fixed-free\"}\n"
   ]
  },
  {
   "cell_type": "markdown",
   "metadata": {},
   "source": [
    "__system_parameters__: defines the beam formulation \n",
    "\n",
    "available models are \n",
    "* Bernoulli beam\n",
    "* Timoshenko beam\n",
    "* Co-rotational beam\n",
    "\n",
    "available models \n",
    "* Linear \n",
    "* Non-linear\n"
   ]
  },
  {
   "cell_type": "code",
   "execution_count": 3,
   "metadata": {
    "scrolled": true
   },
   "outputs": [],
   "source": [
    "parameters[\"model_parameters\"][\"system_parameters\"]={\n",
    "            \"element_params\": {\n",
    "                \"type\": \"Timoshenko\",\n",
    "                \"is_nonlinear\": False\n",
    "            }}\n"
   ]
  },
  {
   "cell_type": "markdown",
   "metadata": {},
   "source": [
    "__material_parameters__ : defines the material properties of the beam \n",
    "\n",
    "you may define the material properties of the beam"
   ]
  },
  {
   "cell_type": "code",
   "execution_count": 4,
   "metadata": {
    "scrolled": true
   },
   "outputs": [],
   "source": [
    "\n",
    "parameters[\"model_parameters\"][\"system_parameters\"][\"material\"] = {\n",
    "                \"is_nonlinear\": False,\n",
    "                \"density\": 160.0,\n",
    "                \"youngs_modulus\": 2.861e8,\n",
    "                \"poisson_ratio\": 0.1,\n",
    "                \"damping_ratio\": 0.0\n",
    "            }"
   ]
  },
  {
   "cell_type": "markdown",
   "metadata": {},
   "source": [
    "__geometry_parameters__ : defines the geometry of the structure\n",
    "\n",
    "It is possible to define the various intervals of the structure with varying geometric parameters\n",
    "\n",
    "number of elements indicate to the total number of elements and not on each intervals \n",
    "__coordinate system__\n",
    "the following coordinate system may be (not necessarily) followed for the project \n",
    "\n",
    "x - along the longitudinal axis \n",
    "\n",
    "y - along the wind \n",
    "\n",
    "z - across the wind"
   ]
  },
  {
   "cell_type": "code",
   "execution_count": 5,
   "metadata": {
    "scrolled": true
   },
   "outputs": [],
   "source": [
    "parameters[\"model_parameters\"][\"system_parameters\"][\"geometry\"] = {\n",
    "                \"length_x\": 180,\n",
    "                \"number_of_elements\": 3,\n",
    "                \"defined_on_intervals\": [{\n",
    "                    \"interval_bounds\" : [0.0, 60.0],\n",
    "                    \"length_y\": [55.0],\n",
    "                    \"length_z\": [35.0],\n",
    "                    \"area\"    : [1925.0],\n",
    "                    \"shear_area_y\" : [1605.0],\n",
    "                    \"shear_area_z\" : [1605.0],\n",
    "                    \"moment_of_inertia_y\" : [196510.0],\n",
    "                    \"moment_of_inertia_z\" : [458260.0],\n",
    "                    \"torsional_moment_of_inertia\" : [691771.0]},\n",
    "                    {\n",
    "                    \"interval_bounds\" : [60.0, 120.0],\n",
    "                    \"length_y\": [45.0],\n",
    "                    \"length_z\": [30.0],\n",
    "                    \"area\"    : [1350],\n",
    "                    \"shear_area_y\" : [1125.0],\n",
    "                    \"shear_area_z\" : [1125.0],\n",
    "                    \"moment_of_inertia_y\" : [101250.0],\n",
    "                    \"moment_of_inertia_z\" : [227813.0],\n",
    "                    \"torsional_moment_of_inertia\" : [329063.0]},\n",
    "                    {\n",
    "                    \"interval_bounds\" : [120.0, \"End\"],\n",
    "                    \"length_y\": [35.0],\n",
    "                    \"length_z\": [25.0],\n",
    "                    \"area\"    : [875.0],\n",
    "                    \"shear_area_y\" : [729.0],\n",
    "                    \"shear_area_z\" : [729.0],\n",
    "                    \"moment_of_inertia_y\" : [45573.0],\n",
    "                    \"moment_of_inertia_z\" : [89323.0],\n",
    "                    \"torsional_moment_of_inertia\" : [134896.0]}]\n",
    "            }\n"
   ]
  },
  {
   "cell_type": "markdown",
   "metadata": {},
   "source": [
    "__optimization_parameters__: defines the optimization parameters for fine tuning the structure. \n",
    "\n",
    "It is possible to do an optimization of various structural parameters to match to eigen frequency for various modes. \n",
    "The density can also be optimized to match the total weight of the building. "
   ]
  },
  {
   "cell_type": "code",
   "execution_count": 6,
   "metadata": {
    "scrolled": true
   },
   "outputs": [],
   "source": [
    "parameters[\"optimization_parameters\"] =  {\n",
    "        \"adapt_for_target_values\": {\n",
    "            \"density_for_total_mass\": 38880000.0,\n",
    "            \"geometric_properties_for\": {\n",
    "                \"help\": \"first entry: sway_y, second entry: sway_z, -1: shear, +1: bending\",\n",
    "                \"partition_shear_bending\": [-1, 1],\n",
    "                \"consider_decomposed_modes\": [\"sway_z\",\"sway_y\", \"torsional\"],\n",
    "                \"corresponding_mode_ids\" : [1, 1, 1],\n",
    "                \"corresponding_eigenfrequencies\": [0.23,0.20,0.40]}}\n",
    "    }\n"
   ]
  },
  {
   "cell_type": "markdown",
   "metadata": {},
   "source": [
    "__analysis_parameters__ : defines the analysis parameters options \n",
    "\n",
    "Report directory can be defined as relative/ absolute path\n",
    "\n",
    "a skin model is also available to visualize the structure\n"
   ]
  },
  {
   "cell_type": "code",
   "execution_count": 7,
   "metadata": {
    "scrolled": true
   },
   "outputs": [],
   "source": [
    "parameters[\"analyses_parameters\"] = {\n",
    "        \"global_output_folder\" : \"some/path\",\n",
    "        \"model_properties\": {\n",
    "            \"write\": True,\n",
    "            \"plot\":True\n",
    "        }}\n",
    "parameters[\"analyses_parameters\"][\"report_options\"] = {\n",
    "            \"combine_plots_into_pdf\" : True,\n",
    "            \"display_plots_on_screen\" : False,\n",
    "            \"use_skin_model\" : False\n",
    "        }"
   ]
  },
  {
   "cell_type": "markdown",
   "metadata": {},
   "source": [
    "__skin_model_parameters__ : defines the details of the skin model \n",
    "\n",
    "you may check out the other options available\n"
   ]
  },
  {
   "cell_type": "code",
   "execution_count": 8,
   "metadata": {
    "scrolled": true
   },
   "outputs": [],
   "source": [
    "parameters[\"analyses_parameters\"][\"skin_model_parameters\"] = {\n",
    "            \"geometry\": [ [0, -22.5, -15.0], [0, -22.5, 15], [0, 22.5, 15],\n",
    "                          [0, 22.5, -15]\n",
    "            ],\n",
    "            \"contour_density\": 1,\n",
    "            \"record_animation\": True,\n",
    "            \"visualize_line_structure\": True,\n",
    "            \"beam_direction\": \"x\",\n",
    "            \"scaling_vector\": [1.0, 1.0 , 1.0, 1.0, 1.0, 1.0, 1.0],\n",
    "            \"eigenmode_scaling_factor\" : 1e5,\n",
    "            \"dynamic_scaling_factor\" : 1e3\n",
    "        }\n"
   ]
  },
  {
   "cell_type": "markdown",
   "metadata": {},
   "source": [
    "__Eigenvalue analysis__ : defines the options for eigen value analysis \n",
    "\n",
    "you may check out the other options available"
   ]
  },
  {
   "cell_type": "code",
   "execution_count": 9,
   "metadata": {
    "scrolled": true
   },
   "outputs": [],
   "source": [
    "\n",
    "parameters[\"analyses_parameters\"][\"runs\"] = [{\n",
    "                \"type\": \"eigenvalue_analysis\",\n",
    "                \"settings\": {\n",
    "                    \"normalization\": \"mass_normalized\"},\n",
    "                \"input\":{},\n",
    "                \"output\":{\n",
    "                    \"eigenmode_summary\": {\n",
    "                        \"write\" : True, \n",
    "                        \"plot\" : True},\n",
    "                    \"eigenmode_identification\": {\n",
    "                        \"write\" : True, \n",
    "                        \"plot\" : True},\n",
    "                    \"selected_eigenmode\": {\n",
    "                        \"plot_mode\": [1,2,3], \n",
    "                        \"write_mode\": [1,2,3],\n",
    "                        \"animate_mode\": [1],\n",
    "                        \"animate_skin_model\": []},\n",
    "                    \"selected_eigenmode_range\": {\n",
    "                        \"help\": \"maximum 4 modes per range at a time\",\n",
    "                        \"considered_ranges\": [[1,2]], \n",
    "                        \"plot_range\": [True, True], \n",
    "                        \"write_range\": [True, False]}\n",
    "                    }\n",
    "            }]\n"
   ]
  },
  {
   "cell_type": "markdown",
   "metadata": {},
   "source": [
    "__Dynamic analysis__: defines the options for dynamic analysis \n",
    "\n",
    "\n",
    "you may check out the other options available\n",
    "\n",
    "Note : the force file should match the number of nodes / elements\n",
    "\n",
    "__Tip: Take extra care on the time integration scheme and time step values__"
   ]
  },
  {
   "cell_type": "code",
   "execution_count": 10,
   "metadata": {
    "scrolled": true
   },
   "outputs": [],
   "source": [
    "parameters[\"analyses_parameters\"][\"runs\"].append(dict({\"type\" : \"dynamic_analysis\",\n",
    "                \"settings\": {\n",
    "                    \"solver_type\": \"Linear\",\n",
    "                    \"run_in_modal_coordinates\": False,\n",
    "                    \"time\":{\n",
    "                        \"integration_scheme\": \"GenAlpha\",\n",
    "                        \"start\": 0.0,\n",
    "                        \"end\": 600.0,\n",
    "                        \"step\" : 0.02},\n",
    "                    \"intial_conditions\": {\n",
    "                        \"displacement\": \"None\",\n",
    "                        \"velocity\": \"None\",\n",
    "                        \"acceleration\" : \"None\"\n",
    "                    }},\n",
    "                \"input\": {\n",
    "                    \"help\":\"provide load file in the required format\",\n",
    "                    \"file_path\": \"input/force/generic_building/dynamic_force_4_nodes.npy\"\n",
    "                },\n",
    "                \"output\":{\n",
    "                    \"selected_instance\": {\n",
    "                        \"plot_step\": [1500, 2361], \n",
    "                        \"write_step\": [3276],\n",
    "                        \"plot_time\": [30.5, 315.25], \n",
    "                        \"write_time\": [450.15]\n",
    "                    },\n",
    "                    \"animate_time_history\" : False,\n",
    "                    \"animate_skin_model_time_history\": False,\n",
    "                    \"skin_model_animation_parameters\":{\n",
    "                        \"start_record\": 160,\n",
    "                        \"end_record\": 200,\n",
    "                        \"record_step\": 10\n",
    "                    },\n",
    "                    \"selected_dof\": {\n",
    "                        \"dof_list\": [1, 2, 0, 4, 5, 3,\n",
    "                                    -5, \n",
    "                                    -4, \n",
    "                                    -2, \n",
    "                                    -1],\n",
    "                        \"help\": \"result type can be a list containing: reaction, ext_force, displacement, velocity, acceleration\",\n",
    "                        \"result_type\": [[\"reaction\"], [\"reaction\"], [\"reaction\"], [\"reaction\"], [\"reaction\"], [\"reaction\"],\n",
    "                                        [\"displacement\", \"velocity\", \"acceleration\"], \n",
    "                                        [\"displacement\", \"velocity\", \"acceleration\"], \n",
    "                                        [\"displacement\", \"velocity\", \"acceleration\"], \n",
    "                                        [\"displacement\", \"velocity\", \"acceleration\"]],\n",
    "                        \"plot_result\": [[True], [True], [True], [True], [True], [True],\n",
    "                                        [True, True, True], \n",
    "                                        [True, True, True], \n",
    "                                        [True, False, True], \n",
    "                                        [True, False, True]],\n",
    "                        \"write_result\": [[False],[False],[False],[True],[True],[True],\n",
    "                                            [True, False, True], \n",
    "                                            [True, False, True], \n",
    "                                            [True, False, True], \n",
    "                                            [True, False, True]]\n",
    "                    }\n",
    "                }\n",
    "            }))\n"
   ]
  },
  {
   "cell_type": "markdown",
   "metadata": {},
   "source": [
    "__Static analysis__: defines the options for static analysis \n",
    "\n",
    "you may check out the other options available\n",
    "\n",
    "Note: the force file should match the number of nodes / elements"
   ]
  },
  {
   "cell_type": "code",
   "execution_count": 11,
   "metadata": {
    "scrolled": true
   },
   "outputs": [],
   "source": [
    "parameters[\"analyses_parameters\"][\"runs\"].append(dict({\n",
    "                \"type\" : \"static_analysis\",\n",
    "                \"settings\": {}, \n",
    "                \"input\":{\n",
    "                    \"help\":\"provide load file in the required format - either some symbolic generated or time step from dynamic\",\n",
    "                    \"file_path\": \"input/force/generic_building/dynamic_force_4_nodes.npy\",\n",
    "                    \"is_time_history_file\" : True,\n",
    "                    \"selected_time_step\" : 15000\n",
    "                }, \n",
    "                \"output\":{\n",
    "                    \"plot\": [\"deformation\", \"forces\"],\n",
    "                    \"write\": [\"deformation\"]\n",
    "                }\n",
    "            }))\n"
   ]
  },
  {
   "cell_type": "markdown",
   "metadata": {},
   "source": [
    "__Creates the beam model and evaluate responses__ \n"
   ]
  },
  {
   "cell_type": "code",
   "execution_count": 18,
   "metadata": {
    "scrolled": true
   },
   "outputs": [
    {
     "name": "stdout",
     "output_type": "stream",
     "text": [
      "No outrigger mass for interval 0\n",
      "No outrigger mass for interval 1\n",
      "No outrigger mass for interval 2\n",
      "3D Timoshenko Beam Element 0\n",
      "Initial coordinates: \n",
      "[0. 0. 0.]\n",
      "[60.  0.  0.]\n",
      "A: 1925.0\n",
      "Asy: 1605.0\n",
      "Asz: 1605.0\n",
      "Iy: 196510.0\n",
      "Iz: 458260.0\n",
      "Pz: 0.8978650051921081\n",
      "Py: 2.0938151609553484\n",
      "\n",
      "3D Timoshenko Beam Element 1\n",
      "Initial coordinates: \n",
      "[60.  0.  0.]\n",
      "[120.   0.   0.]\n",
      "A: 1350.0\n",
      "Asy: 1125.0\n",
      "Asz: 1125.0\n",
      "Iy: 101250.0\n",
      "Iz: 227813.0\n",
      "Pz: 0.66\n",
      "Py: 1.4850032592592592\n",
      "\n",
      "3D Timoshenko Beam Element 2\n",
      "Initial coordinates: \n",
      "[120.   0.   0.]\n",
      "[180.   0.   0.]\n",
      "A: 875.0\n",
      "Asy: 729.0\n",
      "Asz: 729.0\n",
      "Iy: 45573.0\n",
      "Iz: 89323.0\n",
      "Pz: 0.45843895747599456\n",
      "Py: 0.8985395518975767\n",
      "\n",
      "parameters does not have \"elastic_fixity_dofs\"\n",
      "[9240000.0, 15720000.0, 10680000.0, 4200000.0]\n",
      "[9240000.0, 15720000.0, 10680000.0, 4200000.0]\n",
      "BEFORE OPTIMIZATION\n",
      "Result of decoupled eigenmode identification for the first 15 mode(s)\n",
      "  Mode type: sway_y\n",
      "    Eigenform 1 with eigenfrequency 0.30 Hz\n",
      "    Eigenform 3 with eigenfrequency 1.22 Hz\n",
      "    Eigenform 7 with eigenfrequency 2.82 Hz\n",
      "    Eigenform 11 with eigenfrequency 6.47 Hz\n",
      "    Eigenform 14 with eigenfrequency 10.49 Hz\n",
      "  Mode type: sway_z\n",
      "    Eigenform 2 with eigenfrequency 0.44 Hz\n",
      "    Eigenform 4 with eigenfrequency 1.64 Hz\n",
      "    Eigenform 8 with eigenfrequency 3.54 Hz\n",
      "    Eigenform 13 with eigenfrequency 7.90 Hz\n",
      "  Mode type: torsional\n",
      "    Eigenform 5 with eigenfrequency 1.88 Hz\n",
      "    Eigenform 9 with eigenfrequency 4.18 Hz\n",
      "    Eigenform 12 with eigenfrequency 6.84 Hz\n",
      "  Mode type: longitudinal\n",
      "    Eigenform 6 with eigenfrequency 2.31 Hz\n",
      "    Eigenform 10 with eigenfrequency 6.14 Hz\n",
      "    Eigenform 15 with eigenfrequency 10.66 Hz\n",
      "\n",
      "Found need for adapting structure for target values\n",
      "DENSITY OPTIMIZATION\n",
      "Adapting density for target total mass:  38880000.0\n",
      "BEFORE TUNED DENSITY\n",
      "[9240000.0, 15720000.0, 10680000.0, 4200000.0]\n",
      "CURRENT:\n",
      "total mass  39840000.0\n",
      "density:  160.0\n",
      "\n",
      "[18788956.53096466, 31965627.34488793, 21717105.60072539, 8540434.786802119]\n",
      "CURRENT:\n",
      "total mass  81012124.2633801\n",
      "density:  160.0\n",
      "\n",
      "[29259043.469035335, 49778372.655112065, 33818894.39927461, 13299565.21319788]\n",
      "CURRENT:\n",
      "total mass  126155875.73661989\n",
      "density:  160.0\n",
      "\n",
      "[12318086.93807067, 20956745.310224127, 14237788.798549216, 5599130.426395759]\n",
      "CURRENT:\n",
      "total mass  53111751.47323977\n",
      "density:  160.0\n",
      "\n",
      "[9017349.397590369, 15341204.81927712, 10422650.602409646, 4098795.1807228946]\n",
      "CURRENT:\n",
      "total mass  38880000.00000003\n",
      "density:  160.0\n",
      "\n",
      "[9017318.463841463, 15341152.191730281, 10422614.847816758, 4098781.1199279386]\n",
      "CURRENT:\n",
      "total mass  38879866.62331644\n",
      "density:  160.0\n",
      "\n",
      "[9017380.331339275, 15341257.446823962, 10422686.357002538, 4098809.241517852]\n",
      "CURRENT:\n",
      "total mass  38880133.37668363\n",
      "density:  160.0\n",
      "\n",
      "AFTER TUNED DENSITY\n",
      "[9017380.331339275, 15341257.446823962, 10422686.357002538, 4098809.241517852]\n",
      "CURRENT:\n",
      "total mass  38880133.37668363\n",
      "density:  156.14457831325313\n",
      "\n",
      "\n",
      "SWAY_Y OPTIMIZATION\n",
      "INITIAL iy: 196510.0, 101250.0, 45573.0\n",
      "\n",
      "OPTIMIZED iy:  85009.24321671652, 43800.243629802804, 19714.651880898797\n",
      "INITIAL a_sz: 1605.0, 1125.0, 729.0\n",
      "\n",
      "OPTIMIZED a_sz:  1560.7708731541215, 1093.9982755753188, 708.9108825728066\n",
      "\n",
      "FACTORS:  0.43259499881286717, 0.9724429116225056\n",
      "\n",
      "SWAY_Z OPTIMIZATION\n",
      "INITIAL iz: 458260.0, 227813.0, 89323.0\n",
      "\n",
      "OPTIMIZED iz:  115060.81233487789, 57199.731245244046, 22427.392615956658\n",
      "\n",
      "INITIAL a_sy: 1605.0, 1125.0, 729.0\n",
      "\n",
      "OPTIMIZED a_sy:  1476.5350396832555, 1034.9544670677024, 670.6504946598712\n",
      "FACTOR:  [0.25108195 0.91995953]\n",
      "\n",
      "TORSIONAL OPTIMIZATION\n",
      "INITIAL it: 691771.0, 329063.0, 134896.0\n",
      "OPTIMIZED it:  103727.07032921298, 49341.09834575576, 20226.876927667556\n",
      "\n",
      "INITIAL ip: 200070.0555515944, 100999.97487504684, 42142.04449685545\n",
      "OPTIMIZED ip:  2200770.611059074, 1110999.723621242, 463562.489463627\n",
      "\n",
      "FACTORS:  0.14994423057516573, 10.99999999995769\n",
      "\n",
      "AFTER OPTIMIZATION\n",
      "Result of decoupled eigenmode identification for the first 15 mode(s)\n",
      "  Mode type: sway_y\n",
      "    Eigenform 1 with eigenfrequency 0.20 Hz\n",
      "    Eigenform 4 with eigenfrequency 0.86 Hz\n",
      "    Eigenform 8 with eigenfrequency 2.08 Hz\n",
      "    Eigenform 11 with eigenfrequency 4.81 Hz\n",
      "    Eigenform 14 with eigenfrequency 8.51 Hz\n",
      "  Mode type: sway_z\n",
      "    Eigenform 2 with eigenfrequency 0.23 Hz\n",
      "    Eigenform 6 with eigenfrequency 0.96 Hz\n",
      "    Eigenform 9 with eigenfrequency 2.25 Hz\n",
      "    Eigenform 12 with eigenfrequency 5.26 Hz\n",
      "    Eigenform 15 with eigenfrequency 9.12 Hz\n",
      "  Mode type: torsional\n",
      "    Eigenform 3 with eigenfrequency 0.40 Hz\n",
      "    Eigenform 5 with eigenfrequency 0.89 Hz\n",
      "    Eigenform 7 with eigenfrequency 1.46 Hz\n",
      "  Mode type: longitudinal\n",
      "    Eigenform 10 with eigenfrequency 2.34 Hz\n",
      "    Eigenform 13 with eigenfrequency 6.22 Hz\n",
      "\n",
      "output\\GenericBuilding set as absolute folder path in AnalysisController\n",
      "alphaM:  -0.5862068965517241\n",
      "System: in matrix form\n",
      "Printing Generalized Alpha Method integration scheme setup:\n",
      "dt:  0.02\n",
      "alphaM:  -0.5862068965517241\n",
      "alphaF:  0.13793103448275865\n",
      "gamma:  1.2241379310344829\n",
      "beta:  0.7431629013079668\n",
      " \n",
      "Generalized mass should be identity\n",
      "Solving the structure for dynamic loads \n",
      "\n",
      "Solving for ext_force in StaticAnalysis derived class \n",
      "\n"
     ]
    },
    {
     "ename": "Exception",
     "evalue": "beam model and dynamic load signal have different number of nodes",
     "output_type": "error",
     "traceback": [
      "\u001b[1;31m---------------------------------------------------------------------------\u001b[0m",
      "\u001b[1;31mException\u001b[0m                                 Traceback (most recent call last)",
      "\u001b[1;32m<ipython-input-18-264996f69706>\u001b[0m in \u001b[0;36m<module>\u001b[1;34m\u001b[0m\n\u001b[0;32m     16\u001b[0m analyses_controller = AnalysisController(\n\u001b[0;32m     17\u001b[0m     beam_model, parameters['analyses_parameters'])\n\u001b[1;32m---> 18\u001b[1;33m \u001b[0manalyses_controller\u001b[0m\u001b[1;33m.\u001b[0m\u001b[0msolve\u001b[0m\u001b[1;33m(\u001b[0m\u001b[1;33m)\u001b[0m\u001b[1;33m\u001b[0m\u001b[1;33m\u001b[0m\u001b[0m\n\u001b[0m\u001b[0;32m     19\u001b[0m \u001b[0manalyses_controller\u001b[0m\u001b[1;33m.\u001b[0m\u001b[0mpostprocess\u001b[0m\u001b[1;33m(\u001b[0m\u001b[1;33m)\u001b[0m\u001b[1;33m\u001b[0m\u001b[1;33m\u001b[0m\u001b[0m\n",
      "\u001b[1;32mc:\\Users\\Johannes\\Documents\\TUM\\HiWi\\ParOptBeam\\source\\analysis\\analysis_controller.py\u001b[0m in \u001b[0;36msolve\u001b[1;34m(self)\u001b[0m\n\u001b[0;32m    123\u001b[0m     \u001b[1;32mdef\u001b[0m \u001b[0msolve\u001b[0m\u001b[1;33m(\u001b[0m\u001b[0mself\u001b[0m\u001b[1;33m)\u001b[0m\u001b[1;33m:\u001b[0m\u001b[1;33m\u001b[0m\u001b[1;33m\u001b[0m\u001b[0m\n\u001b[0;32m    124\u001b[0m         \u001b[1;32mfor\u001b[0m \u001b[0manalysis\u001b[0m \u001b[1;32min\u001b[0m \u001b[0mself\u001b[0m\u001b[1;33m.\u001b[0m\u001b[0manalyses\u001b[0m\u001b[1;33m:\u001b[0m\u001b[1;33m\u001b[0m\u001b[1;33m\u001b[0m\u001b[0m\n\u001b[1;32m--> 125\u001b[1;33m             \u001b[0manalysis\u001b[0m\u001b[1;33m.\u001b[0m\u001b[0msolve\u001b[0m\u001b[1;33m(\u001b[0m\u001b[1;33m)\u001b[0m\u001b[1;33m\u001b[0m\u001b[1;33m\u001b[0m\u001b[0m\n\u001b[0m\u001b[0;32m    126\u001b[0m \u001b[1;33m\u001b[0m\u001b[0m\n\u001b[0;32m    127\u001b[0m     \u001b[1;32mdef\u001b[0m \u001b[0mpostprocess\u001b[0m\u001b[1;33m(\u001b[0m\u001b[0mself\u001b[0m\u001b[1;33m)\u001b[0m\u001b[1;33m:\u001b[0m\u001b[1;33m\u001b[0m\u001b[1;33m\u001b[0m\u001b[0m\n",
      "\u001b[1;32mc:\\Users\\Johannes\\Documents\\TUM\\HiWi\\ParOptBeam\\source\\analysis\\eswl_analysis.py\u001b[0m in \u001b[0;36msolve\u001b[1;34m(self)\u001b[0m\n\u001b[0;32m     34\u001b[0m \u001b[1;33m\u001b[0m\u001b[0m\n\u001b[0;32m     35\u001b[0m         \u001b[1;32mif\u001b[0m \u001b[0mlen\u001b[0m\u001b[1;33m(\u001b[0m\u001b[0mload_signals_raw\u001b[0m\u001b[1;33m)\u001b[0m \u001b[1;33m!=\u001b[0m \u001b[1;33m(\u001b[0m\u001b[0mself\u001b[0m\u001b[1;33m.\u001b[0m\u001b[0mstructure_model\u001b[0m\u001b[1;33m.\u001b[0m\u001b[0mn_nodes\u001b[0m\u001b[1;33m*\u001b[0m\u001b[0mGD\u001b[0m\u001b[1;33m.\u001b[0m\u001b[0mDOFS_PER_NODE\u001b[0m\u001b[1;33m[\u001b[0m\u001b[0mself\u001b[0m\u001b[1;33m.\u001b[0m\u001b[0mstructure_model\u001b[0m\u001b[1;33m.\u001b[0m\u001b[0mdomain_size\u001b[0m\u001b[1;33m]\u001b[0m\u001b[1;33m)\u001b[0m\u001b[1;33m:\u001b[0m\u001b[1;33m\u001b[0m\u001b[1;33m\u001b[0m\u001b[0m\n\u001b[1;32m---> 36\u001b[1;33m             \u001b[1;32mraise\u001b[0m \u001b[0mException\u001b[0m\u001b[1;33m(\u001b[0m\u001b[1;34m'beam model and dynamic load signal have different number of nodes'\u001b[0m\u001b[1;33m)\u001b[0m\u001b[1;33m\u001b[0m\u001b[1;33m\u001b[0m\u001b[0m\n\u001b[0m\u001b[0;32m     37\u001b[0m         \u001b[1;32melse\u001b[0m\u001b[1;33m:\u001b[0m\u001b[1;33m\u001b[0m\u001b[1;33m\u001b[0m\u001b[0m\n\u001b[0;32m     38\u001b[0m             \u001b[1;31m# PARSING FOR ESWL\u001b[0m\u001b[1;33m\u001b[0m\u001b[1;33m\u001b[0m\u001b[1;33m\u001b[0m\u001b[0m\n",
      "\u001b[1;31mException\u001b[0m: beam model and dynamic load signal have different number of nodes"
     ]
    }
   ],
   "source": [
    "# create initial model\n",
    "beam_model = StraightBeam(parameters['model_parameters'])\n",
    "\n",
    "# additional changes due to optimization\n",
    "if 'optimization_parameters' in parameters:\n",
    "    # return the model of the optimizable instance to preserve what is required by analyzis\n",
    "    from source.model.optimizable_structure_model import OptimizableStraightBeam\n",
    "    beam_model = OptimizableStraightBeam(\n",
    "        beam_model, parameters['optimization_parameters']['adapt_for_target_values']).model\n",
    "else:\n",
    "    print('No need found for adapting structure for target values')\n",
    "\n",
    "# ==============================================\n",
    "# Analysis wrapper\n",
    "\n",
    "analyses_controller = AnalysisController(\n",
    "    beam_model, parameters['analyses_parameters'])\n",
    "analyses_controller.solve()\n",
    "analyses_controller.postprocess()"
   ]
  },
  {
   "cell_type": "code",
   "execution_count": null,
   "metadata": {},
   "outputs": [],
   "source": []
  }
 ],
 "metadata": {
  "kernelspec": {
   "display_name": "Python 3",
   "language": "python",
   "name": "python3"
  },
  "language_info": {
   "codemirror_mode": {
    "name": "ipython",
    "version": 3
   },
   "file_extension": ".py",
   "mimetype": "text/x-python",
   "name": "python",
   "nbconvert_exporter": "python",
   "pygments_lexer": "ipython3",
   "version": "3.8.3"
  }
 },
 "nbformat": 4,
 "nbformat_minor": 2
}
