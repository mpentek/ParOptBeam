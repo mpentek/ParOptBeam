{
 "cells": [
  {
   "cell_type": "markdown",
   "metadata": {},
   "source": [
    "# Eigenvalue analysis of a beam - analytical solution "
   ]
  },
  {
   "cell_type": "markdown",
   "metadata": {},
   "source": [
    "### Description: In some cases a single degree of freedom - SDoF - model can be used to model the structural behaviour. The response of a SDoF system under dynamic loads may be computed by different direct time integration schemes, which are presented here. The results are compared with the analytical solutions from basic structural dynamics. Some exercises are proposed. \n",
    "\n",
    "#### Students are advised to complete the exercises. "
   ]
  },
  {
   "cell_type": "markdown",
   "metadata": {},
   "source": [
    "##### Project: Structural Wind Engineering WS 21-22 Chair of Structural Analysis @ TUM - M. Péntek, A. Kodakkal, G. Martínez-López\n",
    "        \n",
    "Author : anoop.kodakkal@tum.de mate.pentek@tum.de\n",
    "\n",
    "Created on:  15.11.2015\n",
    "\n",
    "Last update: 08.11.2021"
   ]
  },
  {
   "cell_type": "code",
   "execution_count": 1,
   "metadata": {
    "scrolled": true
   },
   "outputs": [],
   "source": [
    "# import python modules\n",
    "import time\n",
    "import matplotlib.pyplot as plt\n",
    "import numpy as np\n",
    "\n",
    "# import own modules\n",
    "#import structure_sdof as s_sdof"
   ]
  },
  {
   "cell_type": "markdown",
   "metadata": {},
   "source": [
    "###### Structural setup "
   ]
  },
  {
   "cell_type": "code",
   "execution_count": 2,
   "metadata": {},
   "outputs": [],
   "source": [
    "# mass per unit length \n",
    "m = 3.9888 # kg \n",
    "L = 0.4 # m \n",
    "E = 1e9 # N/m2\n",
    "I = 1.215e-8 # m4\n",
    "A = 0.0018 #m2\n",
    "xi = 0.00 \n",
    "# density \n",
    "rho = m/L/A\n",
    "# the values of the beam is taken from \n",
    "#https://functionbay.com/documentation/onlinehelp/default.htm#!Documents/acantileverbeam.htm "
   ]
  },
  {
   "cell_type": "markdown",
   "metadata": {},
   "source": [
    "######  analytical natural frequency "
   ]
  },
  {
   "cell_type": "markdown",
   "metadata": {},
   "source": [
    "Table D2 in http://www.vibrationdata.com/tutorials2/EffectiveModalMass.pdf"
   ]
  },
  {
   "cell_type": "code",
   "execution_count": 3,
   "metadata": {},
   "outputs": [
    {
     "name": "stdout",
     "output_type": "stream",
     "text": [
      "[ 24.25637449 152.01269044 425.64041804 834.08988681]\n"
     ]
    }
   ],
   "source": [
    "frequnecy_const = np.sqrt(E*I/rho/A/L**4)\n",
    "frequency_coeff = [1.87510, 4.69409, 7.854760, 7*np.pi/2]\n",
    "frequency = np.square(frequency_coeff)*frequnecy_const\n",
    "\n",
    "print(frequency)"
   ]
  },
  {
   "cell_type": "markdown",
   "metadata": {},
   "source": [
    "######  analytical mode shape  "
   ]
  },
  {
   "cell_type": "markdown",
   "metadata": {},
   "source": [
    "Table 9.1 in Peterson page 600"
   ]
  },
  {
   "cell_type": "code",
   "execution_count": 4,
   "metadata": {},
   "outputs": [],
   "source": [
    "A_coeff = [1.362220, 0.981868, 1.000776, 1]\n",
    "zeta = np.arange(0,1, 1e-3)"
   ]
  },
  {
   "cell_type": "markdown",
   "metadata": {},
   "source": [
    "First eigen mode"
   ]
  },
  {
   "cell_type": "code",
   "execution_count": 5,
   "metadata": {},
   "outputs": [],
   "source": [
    "mode_n = 1\n",
    "mode_shape = np.sin(zeta*frequency_coeff[mode_n-1])-np.sinh(zeta*frequency_coeff[mode_n-1])\\\n",
    "            + A_coeff[mode_n-1] * (np.cosh(zeta*frequency_coeff[mode_n-1])-np.cos(zeta*frequency_coeff[mode_n-1]))"
   ]
  },
  {
   "cell_type": "code",
   "execution_count": 6,
   "metadata": {},
   "outputs": [
    {
     "data": {
      "image/png": "[encoded data removed]",
      "text/plain": [
       "<Figure size 1080x288 with 1 Axes>"
      ]
     },
     "metadata": {
      "needs_background": "light"
     },
     "output_type": "display_data"
    }
   ],
   "source": [
    "plt.figure(num=3, figsize=(15, 4))\n",
    "plt.title('Mode shape of mode  '+str(mode_n))\n",
    "plt.plot(zeta, mode_shape, \"-k\", lw=1)\n",
    "# plt.xlim([0, x_axis_end])\n",
    "plt.ylabel('Displacement')\n",
    "plt.xlabel('x/L')\n",
    "plt.grid()"
   ]
  },
  {
   "cell_type": "code",
   "execution_count": null,
   "metadata": {},
   "outputs": [],
   "source": []
  }
 ],
 "metadata": {
  "kernelspec": {
   "display_name": "Python 3 (ipykernel)",
   "language": "python",
   "name": "python3"
  },
  "language_info": {
   "codemirror_mode": {
    "name": "ipython",
    "version": 3
   },
   "file_extension": ".py",
   "mimetype": "text/x-python",
   "name": "python",
   "nbconvert_exporter": "python",
   "pygments_lexer": "ipython3",
   "version": "3.9.7"
  }
 },
 "nbformat": 4,
 "nbformat_minor": 2
}
